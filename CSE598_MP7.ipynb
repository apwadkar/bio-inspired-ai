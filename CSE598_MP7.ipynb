{
  "nbformat": 4,
  "nbformat_minor": 0,
  "metadata": {
    "colab": {
      "name": "CSE598_MP7.ipynb",
      "provenance": [],
      "authorship_tag": "ABX9TyOyKoYNAJ2iucaPAhsevMqo",
      "include_colab_link": true
    },
    "kernelspec": {
      "name": "python3",
      "display_name": "Python 3"
    },
    "language_info": {
      "name": "python"
    }
  },
  "cells": [
    {
      "cell_type": "markdown",
      "metadata": {
        "id": "view-in-github",
        "colab_type": "text"
      },
      "source": [
        "<a href=\"https://colab.research.google.com/github/apwadkar/bio-inspired-ai/blob/main/CSE598_MP7.ipynb\" target=\"_parent\"><img src=\"https://colab.research.google.com/assets/colab-badge.svg\" alt=\"Open In Colab\"/></a>"
      ]
    },
    {
      "cell_type": "code",
      "execution_count": 1,
      "metadata": {
        "id": "yZFO_sEr5xKG",
        "colab": {
          "base_uri": "https://localhost:8080/"
        },
        "outputId": "9ded5c77-e8a0-414f-f570-ba594f759168"
      },
      "outputs": [
        {
          "output_type": "stream",
          "name": "stdout",
          "text": [
            "Collecting pyswarms\n",
            "  Downloading pyswarms-1.3.0-py2.py3-none-any.whl (104 kB)\n",
            "\u001b[?25l\r\u001b[K     |███▏                            | 10 kB 16.9 MB/s eta 0:00:01\r\u001b[K     |██████▎                         | 20 kB 9.2 MB/s eta 0:00:01\r\u001b[K     |█████████▍                      | 30 kB 7.6 MB/s eta 0:00:01\r\u001b[K     |████████████▋                   | 40 kB 7.1 MB/s eta 0:00:01\r\u001b[K     |███████████████▊                | 51 kB 4.1 MB/s eta 0:00:01\r\u001b[K     |██████████████████▉             | 61 kB 4.9 MB/s eta 0:00:01\r\u001b[K     |██████████████████████          | 71 kB 5.1 MB/s eta 0:00:01\r\u001b[K     |█████████████████████████▏      | 81 kB 4.1 MB/s eta 0:00:01\r\u001b[K     |████████████████████████████▎   | 92 kB 4.5 MB/s eta 0:00:01\r\u001b[K     |███████████████████████████████▌| 102 kB 5.0 MB/s eta 0:00:01\r\u001b[K     |████████████████████████████████| 104 kB 5.0 MB/s \n",
            "\u001b[?25hRequirement already satisfied: future in /usr/local/lib/python3.7/dist-packages (from pyswarms) (0.16.0)\n",
            "Requirement already satisfied: numpy in /usr/local/lib/python3.7/dist-packages (from pyswarms) (1.21.6)\n",
            "Requirement already satisfied: tqdm in /usr/local/lib/python3.7/dist-packages (from pyswarms) (4.64.0)\n",
            "Requirement already satisfied: scipy in /usr/local/lib/python3.7/dist-packages (from pyswarms) (1.4.1)\n",
            "Requirement already satisfied: attrs in /usr/local/lib/python3.7/dist-packages (from pyswarms) (21.4.0)\n",
            "Requirement already satisfied: pyyaml in /usr/local/lib/python3.7/dist-packages (from pyswarms) (3.13)\n",
            "Requirement already satisfied: matplotlib>=1.3.1 in /usr/local/lib/python3.7/dist-packages (from pyswarms) (3.2.2)\n",
            "Requirement already satisfied: cycler>=0.10 in /usr/local/lib/python3.7/dist-packages (from matplotlib>=1.3.1->pyswarms) (0.11.0)\n",
            "Requirement already satisfied: pyparsing!=2.0.4,!=2.1.2,!=2.1.6,>=2.0.1 in /usr/local/lib/python3.7/dist-packages (from matplotlib>=1.3.1->pyswarms) (3.0.8)\n",
            "Requirement already satisfied: python-dateutil>=2.1 in /usr/local/lib/python3.7/dist-packages (from matplotlib>=1.3.1->pyswarms) (2.8.2)\n",
            "Requirement already satisfied: kiwisolver>=1.0.1 in /usr/local/lib/python3.7/dist-packages (from matplotlib>=1.3.1->pyswarms) (1.4.2)\n",
            "Requirement already satisfied: typing-extensions in /usr/local/lib/python3.7/dist-packages (from kiwisolver>=1.0.1->matplotlib>=1.3.1->pyswarms) (4.1.1)\n",
            "Requirement already satisfied: six>=1.5 in /usr/local/lib/python3.7/dist-packages (from python-dateutil>=2.1->matplotlib>=1.3.1->pyswarms) (1.15.0)\n",
            "Installing collected packages: pyswarms\n",
            "Successfully installed pyswarms-1.3.0\n"
          ]
        }
      ],
      "source": [
        "!pip install pyswarms\n",
        "import numpy as np\n",
        "import pyswarms"
      ]
    },
    {
      "cell_type": "code",
      "source": [
        "def sigmoid(x):\n",
        "  return 1 / (np.exp(-x) + 1)\n",
        "\n",
        "def stepwise(x):\n",
        "  return 1 if x >= 0.5 else 0"
      ],
      "metadata": {
        "id": "45-auhjn6G1d"
      },
      "execution_count": 2,
      "outputs": []
    },
    {
      "cell_type": "code",
      "source": [
        "# 3-input XOR: 1 if odd number of 1's, 0 otherwise\n",
        "X = np.array([[0, 0, 0], [0, 0, 1], [0, 1, 0], [0, 1, 1],\n",
        "              [1, 0, 0], [1, 0, 1], [1, 1, 0], [1, 1, 1]])\n",
        "y = np.array([0, 1, 1, 0, 1, 0, 0, 1])"
      ],
      "metadata": {
        "id": "cx6Nc0Cj6_l8"
      },
      "execution_count": 3,
      "outputs": []
    },
    {
      "cell_type": "code",
      "source": [
        "def forward_1hidden(part):\n",
        "  W1 = part[:9].reshape(3, 3)\n",
        "  W2 = part[9:12].reshape(3, 1)\n",
        "  b1 = part[12:15].reshape(1, 3)\n",
        "  b2 = part[15:].reshape(1, 1)\n",
        "  \n",
        "  score = 0\n",
        "  for row, real in zip(X, y):\n",
        "    h1 = sigmoid(row.dot(W1) + b1)\n",
        "    o1 = stepwise(h1.dot(W2) + b2)\n",
        "    score += 1 if o1 == real else 0\n",
        "  return -score"
      ],
      "metadata": {
        "id": "JBx9QBRL8Qz8"
      },
      "execution_count": 4,
      "outputs": []
    },
    {
      "cell_type": "code",
      "source": [
        "def f1(x):\n",
        "  n_parts = x.shape[0]\n",
        "  j = [forward_1hidden(x[i]) for i in range(n_parts)]\n",
        "  return np.array(j)"
      ],
      "metadata": {
        "id": "JPdNwQLpL7UJ"
      },
      "execution_count": 5,
      "outputs": []
    },
    {
      "cell_type": "code",
      "source": [
        "options = {'c1': 0.5, 'c2': 0.3, 'w': 0.9}\n",
        "\n",
        "dimensions = (3 * 3) + (3 * 1) + 3 + 1\n",
        "optimizer = pyswarms.single.GlobalBestPSO(n_particles=100, dimensions=dimensions, options=options)\n",
        "\n",
        "cost, pos = optimizer.optimize(f1, iters=1000)"
      ],
      "metadata": {
        "colab": {
          "base_uri": "https://localhost:8080/"
        },
        "id": "ku2WetD4ug5Q",
        "outputId": "637e52b0-dcc7-49a0-9fa7-3cc694433915"
      },
      "execution_count": 6,
      "outputs": [
        {
          "output_type": "stream",
          "name": "stderr",
          "text": [
            "2022-04-20 02:07:31,532 - pyswarms.single.global_best - INFO - Optimize for 1000 iters with {'c1': 0.5, 'c2': 0.3, 'w': 0.9}\n",
            "pyswarms.single.global_best: 100%|██████████|1000/1000, best_cost=-6\n",
            "2022-04-20 02:07:51,920 - pyswarms.single.global_best - INFO - Optimization finished | best cost: -6.0, best pos: [ 0.29315177  0.38961727  0.29332711 -0.16352335 -0.13544892 -0.10647361\n",
            "  0.41515767  0.32357736 -0.18019614  0.87708904  0.09961324  0.49255945\n",
            "  0.3742082   0.69773725 -1.04807692 -0.27216169]\n"
          ]
        }
      ]
    },
    {
      "cell_type": "code",
      "source": [
        "print(f'Score: {-forward_1hidden(pos)}\\nBest Genes: {pos}')"
      ],
      "metadata": {
        "colab": {
          "base_uri": "https://localhost:8080/"
        },
        "id": "erPkecpCuySg",
        "outputId": "956d2b70-3585-4579-8b44-5e94788a47fb"
      },
      "execution_count": 8,
      "outputs": [
        {
          "output_type": "stream",
          "name": "stdout",
          "text": [
            "Score: 6\n"
          ]
        }
      ]
    },
    {
      "cell_type": "code",
      "source": [
        "def forward_2hidden(part):\n",
        "  W1 = part[:9].reshape(3, 3)\n",
        "  W2 = part[9:15].reshape(3, 2)\n",
        "  W3 = part[15:17].reshape(2, 1)\n",
        "\n",
        "  b1 = part[17:20].reshape(1, 3)\n",
        "  b2 = part[20:22].reshape(1, 2)\n",
        "  b3 = part[22:].reshape(1, 1)\n",
        "  \n",
        "  score = 0\n",
        "  for row, real in zip(X, y):\n",
        "    h1 = sigmoid(row.dot(W1) + b1)\n",
        "    h2 = sigmoid(h1.dot(W2) + b2)\n",
        "    o1 = stepwise(h2.dot(W3) + b3)\n",
        "    score += 1 if o1 == real else 0\n",
        "  return -score"
      ],
      "metadata": {
        "id": "TkVcB0YZt139"
      },
      "execution_count": 12,
      "outputs": []
    },
    {
      "cell_type": "code",
      "source": [
        "def f2(x):\n",
        "  n_parts = x.shape[0]\n",
        "  j = [forward_2hidden(x[i]) for i in range(n_parts)]\n",
        "  return np.array(j)"
      ],
      "metadata": {
        "id": "_HheX5Azt13_"
      },
      "execution_count": 13,
      "outputs": []
    },
    {
      "cell_type": "code",
      "source": [
        "options = {'c1': 0.5, 'c2': 0.3, 'w': 0.9}\n",
        "\n",
        "dimensions = (3 * 3) + (3 * 2) + (2 * 1) + 3 + 2 + 1\n",
        "optimizer = pyswarms.single.GlobalBestPSO(n_particles=100, dimensions=dimensions, options=options)\n",
        "\n",
        "cost, pos = optimizer.optimize(f2, iters=1000)"
      ],
      "metadata": {
        "colab": {
          "base_uri": "https://localhost:8080/"
        },
        "outputId": "f42d7c4d-c5b4-46a7-9217-e69b87e138b4",
        "id": "B1C1GEsCt14A"
      },
      "execution_count": 14,
      "outputs": [
        {
          "output_type": "stream",
          "name": "stderr",
          "text": [
            "2022-04-20 02:08:22,191 - pyswarms.single.global_best - INFO - Optimize for 1000 iters with {'c1': 0.5, 'c2': 0.3, 'w': 0.9}\n",
            "pyswarms.single.global_best: 100%|██████████|1000/1000, best_cost=-6\n",
            "2022-04-20 02:08:46,206 - pyswarms.single.global_best - INFO - Optimization finished | best cost: -6.0, best pos: [ 0.49398665  0.61232183  0.7194037   0.08360905  0.25899237  0.64499554\n",
            "  0.61850813  0.49225693  0.45901643  0.68401789  0.4603256   0.38505791\n",
            "  0.46996835  0.64157529  0.62415597 -0.49399352  0.33650275  0.72297139\n",
            "  0.17657201  0.91498367 -0.0510463   0.38544598  0.60880431]\n"
          ]
        }
      ]
    },
    {
      "cell_type": "code",
      "source": [
        "print(f'Score: {-forward_2hidden(pos)}\\nBest Genes: {pos}')"
      ],
      "metadata": {
        "colab": {
          "base_uri": "https://localhost:8080/"
        },
        "id": "xOIWCeHruV4H",
        "outputId": "f9b6e2ae-3dac-46a3-e345-708cb59d29d3"
      },
      "execution_count": 18,
      "outputs": [
        {
          "output_type": "stream",
          "name": "stdout",
          "text": [
            "Score: 6\n",
            "Best Genes: [ 0.49398665  0.61232183  0.7194037   0.08360905  0.25899237  0.64499554\n",
            "  0.61850813  0.49225693  0.45901643  0.68401789  0.4603256   0.38505791\n",
            "  0.46996835  0.64157529  0.62415597 -0.49399352  0.33650275  0.72297139\n",
            "  0.17657201  0.91498367 -0.0510463   0.38544598  0.60880431]\n"
          ]
        }
      ]
    },
    {
      "cell_type": "code",
      "source": [
        ""
      ],
      "metadata": {
        "id": "3dOJNcUwuxD4"
      },
      "execution_count": null,
      "outputs": []
    }
  ]
}
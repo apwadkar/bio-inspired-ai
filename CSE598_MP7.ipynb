{
  "nbformat": 4,
  "nbformat_minor": 0,
  "metadata": {
    "colab": {
      "name": "CSE598_MP7.ipynb",
      "provenance": [],
      "authorship_tag": "ABX9TyM+1yKnv018ZQIVP9CbotxE",
      "include_colab_link": true
    },
    "kernelspec": {
      "name": "python3",
      "display_name": "Python 3"
    },
    "language_info": {
      "name": "python"
    }
  },
  "cells": [
    {
      "cell_type": "markdown",
      "metadata": {
        "id": "view-in-github",
        "colab_type": "text"
      },
      "source": [
        "<a href=\"https://colab.research.google.com/github/apwadkar/bio-inspired-ai/blob/main/CSE598_MP7.ipynb\" target=\"_parent\"><img src=\"https://colab.research.google.com/assets/colab-badge.svg\" alt=\"Open In Colab\"/></a>"
      ]
    },
    {
      "cell_type": "code",
      "execution_count": 104,
      "metadata": {
        "id": "yZFO_sEr5xKG",
        "colab": {
          "base_uri": "https://localhost:8080/"
        },
        "outputId": "2c8ffc62-1402-40cd-8846-49ea93430084"
      },
      "outputs": [
        {
          "output_type": "stream",
          "name": "stdout",
          "text": [
            "Collecting pyswarms\n",
            "  Downloading pyswarms-1.3.0-py2.py3-none-any.whl (104 kB)\n",
            "\u001b[?25l\r\u001b[K     |███▏                            | 10 kB 34.4 MB/s eta 0:00:01\r\u001b[K     |██████▎                         | 20 kB 8.5 MB/s eta 0:00:01\r\u001b[K     |█████████▍                      | 30 kB 7.5 MB/s eta 0:00:01\r\u001b[K     |████████████▋                   | 40 kB 3.4 MB/s eta 0:00:01\r\u001b[K     |███████████████▊                | 51 kB 3.5 MB/s eta 0:00:01\r\u001b[K     |██████████████████▉             | 61 kB 4.2 MB/s eta 0:00:01\r\u001b[K     |██████████████████████          | 71 kB 4.4 MB/s eta 0:00:01\r\u001b[K     |█████████████████████████▏      | 81 kB 4.3 MB/s eta 0:00:01\r\u001b[K     |████████████████████████████▎   | 92 kB 4.8 MB/s eta 0:00:01\r\u001b[K     |███████████████████████████████▌| 102 kB 4.2 MB/s eta 0:00:01\r\u001b[K     |████████████████████████████████| 104 kB 4.2 MB/s \n",
            "\u001b[?25hRequirement already satisfied: attrs in /usr/local/lib/python3.7/dist-packages (from pyswarms) (21.4.0)\n",
            "Requirement already satisfied: scipy in /usr/local/lib/python3.7/dist-packages (from pyswarms) (1.4.1)\n",
            "Requirement already satisfied: numpy in /usr/local/lib/python3.7/dist-packages (from pyswarms) (1.21.5)\n",
            "Requirement already satisfied: pyyaml in /usr/local/lib/python3.7/dist-packages (from pyswarms) (3.13)\n",
            "Requirement already satisfied: tqdm in /usr/local/lib/python3.7/dist-packages (from pyswarms) (4.64.0)\n",
            "Requirement already satisfied: future in /usr/local/lib/python3.7/dist-packages (from pyswarms) (0.16.0)\n",
            "Requirement already satisfied: matplotlib>=1.3.1 in /usr/local/lib/python3.7/dist-packages (from pyswarms) (3.2.2)\n",
            "Requirement already satisfied: pyparsing!=2.0.4,!=2.1.2,!=2.1.6,>=2.0.1 in /usr/local/lib/python3.7/dist-packages (from matplotlib>=1.3.1->pyswarms) (3.0.8)\n",
            "Requirement already satisfied: cycler>=0.10 in /usr/local/lib/python3.7/dist-packages (from matplotlib>=1.3.1->pyswarms) (0.11.0)\n",
            "Requirement already satisfied: kiwisolver>=1.0.1 in /usr/local/lib/python3.7/dist-packages (from matplotlib>=1.3.1->pyswarms) (1.4.2)\n",
            "Requirement already satisfied: python-dateutil>=2.1 in /usr/local/lib/python3.7/dist-packages (from matplotlib>=1.3.1->pyswarms) (2.8.2)\n",
            "Requirement already satisfied: typing-extensions in /usr/local/lib/python3.7/dist-packages (from kiwisolver>=1.0.1->matplotlib>=1.3.1->pyswarms) (4.1.1)\n",
            "Requirement already satisfied: six>=1.5 in /usr/local/lib/python3.7/dist-packages (from python-dateutil>=2.1->matplotlib>=1.3.1->pyswarms) (1.15.0)\n",
            "Installing collected packages: pyswarms\n",
            "Successfully installed pyswarms-1.3.0\n"
          ]
        }
      ],
      "source": [
        "!pip install pyswarms\n",
        "import numpy as np\n",
        "import pyswarms"
      ]
    },
    {
      "cell_type": "code",
      "source": [
        "def sigmoid(x):\n",
        "  return 1 / (np.exp(-x) + 1)\n",
        "\n",
        "def stepwise(x):\n",
        "  return 1 if x >= 0.5 else 0"
      ],
      "metadata": {
        "id": "45-auhjn6G1d"
      },
      "execution_count": null,
      "outputs": []
    },
    {
      "cell_type": "code",
      "source": [
        "# 3-input XOR: 1 if odd number of 1's, 0 otherwise\n",
        "X = np.array([[0, 0, 0], [0, 0, 1], [0, 1, 0], [0, 1, 1],\n",
        "              [1, 0, 0], [1, 0, 1], [1, 1, 0], [1, 1, 1]])\n",
        "y = np.array([0, 1, 1, 0, 1, 0, 0, 1])"
      ],
      "metadata": {
        "id": "cx6Nc0Cj6_l8"
      },
      "execution_count": null,
      "outputs": []
    },
    {
      "cell_type": "code",
      "source": [
        "def forward(part):\n",
        "  W1 = part[:9].reshape(3, 3)\n",
        "  W2 = part[9:12].reshape(3, 1)\n",
        "  b1 = part[12:15].reshape(1, 3)\n",
        "  b2 = part[15:].reshape(1, 1)\n",
        "  \n",
        "  score = 0\n",
        "  for row, real in zip(X, y):\n",
        "    h1 = sigmoid(row.dot(W1) + b1)\n",
        "    o1 = stepwise(h1.dot(W2) + b2)\n",
        "    score += 1 if o1 == real else 0\n",
        "  return -score"
      ],
      "metadata": {
        "id": "JBx9QBRL8Qz8"
      },
      "execution_count": 114,
      "outputs": []
    },
    {
      "cell_type": "code",
      "source": [
        "def f(x):\n",
        "  n_parts = x.shape[0]\n",
        "  j = [forward(x[i]) for i in range(n_parts)]\n",
        "  return np.array(j)"
      ],
      "metadata": {
        "id": "JPdNwQLpL7UJ"
      },
      "execution_count": 112,
      "outputs": []
    },
    {
      "cell_type": "code",
      "source": [
        "options = {'c1': 0.5, 'c2': 0.3, 'w': 0.9}\n",
        "\n",
        "dimensions = (3 * 3) + (3 * 1) + 3 + 1\n",
        "optimizer = pyswarms.single.GlobalBestPSO(n_particles=100, dimensions=dimensions, options=options)\n",
        "\n",
        "cost, pos = optimizer.optimize(f, iters=1000)"
      ],
      "metadata": {
        "colab": {
          "base_uri": "https://localhost:8080/"
        },
        "id": "ku2WetD4ug5Q",
        "outputId": "12a20547-a52b-4ee4-dd70-b0eaa5fc3353"
      },
      "execution_count": 115,
      "outputs": [
        {
          "output_type": "stream",
          "name": "stderr",
          "text": [
            "2022-04-18 03:37:56,844 - pyswarms.single.global_best - INFO - Optimize for 1000 iters with {'c1': 0.5, 'c2': 0.3, 'w': 0.9}\n",
            "pyswarms.single.global_best: 100%|██████████|1000/1000, best_cost=-6\n",
            "2022-04-18 03:38:10,262 - pyswarms.single.global_best - INFO - Optimization finished | best cost: -6.0, best pos: [ 0.58722101  0.31776904 -0.24066948  0.86852319 -0.27409089  0.54977247\n",
            "  0.98408193  0.72047737  0.06015637  0.58252428  0.56545613 -0.65891667\n",
            "  0.97392873  0.86459537  0.12861635 -0.08663068]\n"
          ]
        }
      ]
    },
    {
      "cell_type": "code",
      "source": [
        "print(f'Score: {-forward(pos)}')"
      ],
      "metadata": {
        "colab": {
          "base_uri": "https://localhost:8080/"
        },
        "id": "erPkecpCuySg",
        "outputId": "54e55ad8-5057-4f73-e7e3-b7e7dbc915e2"
      },
      "execution_count": 117,
      "outputs": [
        {
          "output_type": "stream",
          "name": "stdout",
          "text": [
            "Score: 6\n"
          ]
        }
      ]
    },
    {
      "cell_type": "code",
      "source": [
        ""
      ],
      "metadata": {
        "id": "CCjatQdawcay"
      },
      "execution_count": null,
      "outputs": []
    }
  ]
}